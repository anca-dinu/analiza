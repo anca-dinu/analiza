{
  "cells": [
    {
      "cell_type": "markdown",
      "source": [
        "Package installation:"
      ],
      "metadata": {
        "id": "EBb9s3L3qT4R"
      }
    },
    {
      "cell_type": "code",
      "execution_count": 1,
      "metadata": {
        "scrolled": true,
        "id": "R29WD4HZk1Bn",
        "colab": {
          "base_uri": "https://localhost:8080/"
        },
        "outputId": "714968b6-8090-4976-c485-b93fd0ade7e6",
        "collapsed": true
      },
      "outputs": [
        {
          "output_type": "stream",
          "name": "stdout",
          "text": [
            "Collecting atlasopenmagic\n",
            "  Downloading atlasopenmagic-1.4.2-py3-none-any.whl.metadata (5.2 kB)\n",
            "Requirement already satisfied: pyyaml in /usr/local/lib/python3.12/dist-packages (from atlasopenmagic) (6.0.2)\n",
            "Requirement already satisfied: requests in /usr/local/lib/python3.12/dist-packages (from atlasopenmagic) (2.32.4)\n",
            "Requirement already satisfied: charset_normalizer<4,>=2 in /usr/local/lib/python3.12/dist-packages (from requests->atlasopenmagic) (3.4.3)\n",
            "Requirement already satisfied: idna<4,>=2.5 in /usr/local/lib/python3.12/dist-packages (from requests->atlasopenmagic) (3.10)\n",
            "Requirement already satisfied: urllib3<3,>=1.21.1 in /usr/local/lib/python3.12/dist-packages (from requests->atlasopenmagic) (2.5.0)\n",
            "Requirement already satisfied: certifi>=2017.4.17 in /usr/local/lib/python3.12/dist-packages (from requests->atlasopenmagic) (2025.8.3)\n",
            "Downloading atlasopenmagic-1.4.2-py3-none-any.whl (19 kB)\n",
            "Installing collected packages: atlasopenmagic\n",
            "Successfully installed atlasopenmagic-1.4.2\n",
            "Installing packages: ['aiohttp>=3.9.5', 'atlasopenmagic>=1.2.0', 'awkward>=2.6.7', 'awkward-pandas>=2023.8.0', 'coffea~=0.7.0', 'fsspec>=2025.7.0', 'hist>=2.8.0', 'ipykernel>=6.29.5', 'jupyter>=1.0.0', 'lmfit>=1.3.2', 'matplotlib>=3.9.1', 'metakernel>=0.30.2', 'notebook<7', 'numpy>=1.26.4', 'pandas>=2.2.2', 'papermill>=2.6.0', 'pip>=24.2', 'scikit-learn>=1.5.1', 'uproot>=5.3.10', 'uproot3>=3.14.4', 'fsspec-xrootd>=0.5.1', 'jupyterlab_latex~=3.1.0', 'vector>=1.4.1']\n",
            "Installation complete. You may need to restart your Python environment for changes to take effect.\n"
          ]
        }
      ],
      "source": [
        "import sys\n",
        "import os.path\n",
        "!pip install atlasopenmagic\n",
        "from atlasopenmagic import install_from_environment\n",
        "install_from_environment()"
      ]
    },
    {
      "cell_type": "code",
      "execution_count": 1,
      "metadata": {
        "id": "RA7rxOESk1Bo"
      },
      "outputs": [],
      "source": [
        "import numpy as np # for numerical calculations such as histogramming\n",
        "import matplotlib.pyplot as plt # for plotting\n",
        "import matplotlib_inline # to edit the inline plot format\n",
        "from matplotlib.ticker import AutoMinorLocator # for minor ticks\n",
        "import uproot # for reading .root files\n",
        "import awkward as ak # to represent nested data in columnar format\n",
        "import vector # for 4-momentum calculations\n",
        "import time # for printing time stamps\n",
        "import requests # for file gathering, if needed"
      ]
    },
    {
      "cell_type": "code",
      "execution_count": 2,
      "metadata": {
        "id": "3ecf42YPk1Bo",
        "outputId": "b595ef35-dfeb-4865-b724-bbe10444adaf",
        "colab": {
          "base_uri": "https://localhost:8080/"
        },
        "collapsed": true
      },
      "outputs": [
        {
          "output_type": "stream",
          "name": "stdout",
          "text": [
            "Available releases:\n",
            "========================================\n",
            "2016e-8tev        2016 Open Data for education release of 8 TeV proton-proton collisions (https://opendata.cern.ch/record/3860).\n",
            "2020e-13tev       2020 Open Data for education release of 13 TeV proton-proton collisions (https://cern.ch/2r7xt).\n",
            "2024r-pp          2024 Open Data for research release for proton-proton collisions (https://opendata.cern.record/80020).\n",
            "2024r-hi          2024 Open Data for research release for heavy-ion collisions (https://opendata.cern.ch/record/80035).\n",
            "2025e-13tev-beta  2025 Open Data for education and outreach beta release for 13 TeV proton-proton collisions(https://opendata.cern.ch/record/93910).\n",
            "2025r-evgen       2025 Open Data for research release for event generation (https://opendata.cern.ch/record/160000).\n",
            "Fetching and caching all metadata for release: 2025e-13tev-beta...\n",
            "Successfully cached 374 datasets.\n",
            "Active release: 2025e-13tev-beta. (Datasets path: REMOTE)\n"
          ]
        }
      ],
      "source": [
        "import atlasopenmagic as atom\n",
        "atom.available_releases()\n",
        "atom.set_release('2025e-13tev-beta')"
      ]
    },
    {
      "cell_type": "markdown",
      "metadata": {
        "id": "MkLLHOz_k1Bo"
      },
      "source": [
        "Unit definitions, as stored in the data files"
      ]
    },
    {
      "cell_type": "code",
      "execution_count": 3,
      "metadata": {
        "id": "XRmyeETUk1Bo"
      },
      "outputs": [],
      "source": [
        "MeV = 0.001\n",
        "GeV = 1.0"
      ]
    },
    {
      "cell_type": "code",
      "execution_count": 4,
      "metadata": {
        "id": "NAngOYOOk1Bp"
      },
      "outputs": [],
      "source": [
        "lumi = 36.6 # fb-1 # data size of the full release\n",
        "\n",
        "skim = \"noskim\"\n",
        "\n",
        "MV2c10_lim = 4 # MV2c10 b-tagging algorithm discriminant cut value\n",
        "\n",
        "fraction=1"
      ]
    },
    {
      "cell_type": "markdown",
      "source": [
        "#Dictionary to store the samples:"
      ],
      "metadata": {
        "id": "sYGGf87MrEWj"
      }
    },
    {
      "cell_type": "code",
      "source": [
        "atom.available_keywords()"
      ],
      "metadata": {
        "colab": {
          "base_uri": "https://localhost:8080/"
        },
        "id": "IhPplfC98eRI",
        "outputId": "96c57cae-150c-4ab1-cb97-06507871b806",
        "collapsed": true
      },
      "execution_count": 5,
      "outputs": [
        {
          "output_type": "execute_result",
          "data": {
            "text/plain": [
              "['1jet',\n",
              " '1lepton',\n",
              " '2electron',\n",
              " '2lepton',\n",
              " '2muon',\n",
              " '2neutrino',\n",
              " '2photon',\n",
              " '2tau',\n",
              " '3lepton',\n",
              " '3photon',\n",
              " '4lepton',\n",
              " '4top',\n",
              " 'BSM',\n",
              " 'BSMHiggs',\n",
              " 'BSMtop',\n",
              " 'Higgs',\n",
              " 'NLO',\n",
              " 'QCD',\n",
              " 'SM',\n",
              " 'SMHiggs',\n",
              " 'SSM',\n",
              " 'VBF',\n",
              " 'VBS',\n",
              " 'W',\n",
              " 'WHiggs',\n",
              " 'WIMP',\n",
              " 'WW',\n",
              " 'WZ',\n",
              " 'Wprime',\n",
              " 'Wt',\n",
              " 'Z',\n",
              " 'ZH',\n",
              " 'ZHiggs',\n",
              " 'ZZ',\n",
              " 'Zgamma',\n",
              " 'Zprime',\n",
              " 'allHadronic',\n",
              " 'allhadronic',\n",
              " 'bbbar',\n",
              " 'bsm',\n",
              " 'bsmtop',\n",
              " 'chargino',\n",
              " 'diboson',\n",
              " 'dijet',\n",
              " 'diphoton',\n",
              " 'egamma',\n",
              " 'electron',\n",
              " 'electroweak',\n",
              " 'exotic',\n",
              " 'gaugino',\n",
              " 'gluino',\n",
              " 'gluonFusionHiggs',\n",
              " 'gravitino',\n",
              " 'heavyBoson',\n",
              " 'higgs',\n",
              " 'higgsino',\n",
              " 'inclusive',\n",
              " 'invisible',\n",
              " 'jets',\n",
              " 'lepton',\n",
              " 'leptoquark',\n",
              " 'mH125',\n",
              " 'multilepton',\n",
              " 'muon',\n",
              " 'neutralino',\n",
              " 'neutrino',\n",
              " 'nlo',\n",
              " 'performance',\n",
              " 'photon',\n",
              " 'quark',\n",
              " 'resonance',\n",
              " 'rpv',\n",
              " 'sChannel',\n",
              " 'scalar',\n",
              " 'schannel',\n",
              " 'simplifiedModel',\n",
              " 'simplifiedmodel',\n",
              " 'singleTop',\n",
              " 'singletop',\n",
              " 'sm',\n",
              " 'smhiggs',\n",
              " 'squark',\n",
              " 'stau',\n",
              " 'stop',\n",
              " 'susy',\n",
              " 'tHiggs',\n",
              " 'tZ',\n",
              " 'tau',\n",
              " 'thiggs',\n",
              " 'top',\n",
              " 'triboson',\n",
              " 'ttHiggs',\n",
              " 'ttW',\n",
              " 'ttbar',\n",
              " 'tthiggs',\n",
              " 'ttv',\n",
              " 'ttvv',\n",
              " 'ttw',\n",
              " 'ttz',\n",
              " 'wimp',\n",
              " 'wprime']"
            ]
          },
          "metadata": {},
          "execution_count": 5
        }
      ]
    },
    {
      "cell_type": "code",
      "source": [
        "atom.match_metadata(field='keywords',value='top')"
      ],
      "metadata": {
        "colab": {
          "base_uri": "https://localhost:8080/"
        },
        "id": "IQ9_21Oe3k6p",
        "outputId": "dcbbe6cf-700d-407d-e357-b148eae3a4c6",
        "collapsed": true
      },
      "execution_count": 6,
      "outputs": [
        {
          "output_type": "execute_result",
          "data": {
            "text/plain": [
              "[('302733', 'MadGraphPythia8EvtGen_A14NNPDF23LO_WpL_tblep_M3000'),\n",
              " ('304014', 'MadGraphPythia8EvtGen_A14NNPDF23_3top_SM'),\n",
              " ('306149', 'MadGraphPythia8EvtGen_A14NNPDF23LO_WpL_tbhad_M3000'),\n",
              " ('346198', 'PhPy8EG_A14NNPDF23_NNPDF30ME_ttH125_Zgam'),\n",
              " ('346343', 'PhPy8EG_A14NNPDF23_NNPDF30ME_ttH125_allhad'),\n",
              " ('346344', 'PhPy8EG_A14NNPDF23_NNPDF30ME_ttH125_semilep'),\n",
              " ('346345', 'PhPy8EG_A14NNPDF23_NNPDF30ME_ttH125_dilep'),\n",
              " ('346525', 'PowhegPythia8EvtGen_A14NNPDF23_NNPDF30ME_ttH125_gamgam'),\n",
              " ('346919', 'PhPy8EG_A14NNPDF23_NNPDF30ME_ttH125_allhad_tautau_unpol'),\n",
              " ('346923', 'PhPy8EG_A14NNPDF23_NNPDF30ME_ttH125_semilep_tautau_unpol'),\n",
              " ('346927', 'PhPy8EG_A14NNPDF23_NNPDF30ME_ttH125_dilep_tautau_unpol'),\n",
              " ('375884', 'MGPy8EG_A14N_GG_ttn1_2000_5000_200'),\n",
              " ('410081', 'MadGraphPythia8EvtGen_A14NNPDF23_ttbarWW'),\n",
              " ('410082', 'MadGraphPythia8EvtGen_A14NNPDF23LO_ttgamma_noallhad'),\n",
              " ('410087', 'MadGraphPythia8EvtGen_A14NNPDF23LO_ttgamma_allhad'),\n",
              " ('410389', 'MadGraphPythia8EvtGen_A14NNPDF23_ttgamma_nonallhadronic'),\n",
              " ('410395', 'MGH7EG_H7UE_ttgamma_nonallhadronic'),\n",
              " ('410396', 'MGH7EG_H7UE_ttgamma_allhadronic'),\n",
              " ('410408', 'aMcAtNloPythia8EvtGen_tWZ_Ztoll_minDR1'),\n",
              " ('410470', 'PhPy8EG_A14_ttbar_hdamp258p75_nonallhad'),\n",
              " ('410471', 'PhPy8EG_A14_ttbar_hdamp258p75_allhad'),\n",
              " ('410644', 'PowhegPythia8EvtGen_A14_singletop_schan_lept_top'),\n",
              " ('410645', 'PowhegPythia8EvtGen_A14_singletop_schan_lept_antitop'),\n",
              " ('410658', 'PhPy8EG_A14_tchan_BW50_lept_top'),\n",
              " ('410659', 'PhPy8EG_A14_tchan_BW50_lept_antitop'),\n",
              " ('411233', 'PowhegHerwig7EvtGen_tt_hdamp258p75_713_SingleLep'),\n",
              " ('411234', 'PowhegHerwig7EvtGen_tt_hdamp258p75_713_dil'),\n",
              " ('411316', 'PowhegHerwig7EvtGen_tt_hdamp258p75_713_allhad'),\n",
              " ('412043', 'aMcAtNloPythia8EvtGen_A14NNPDF31_SM4topsNLO'),\n",
              " ('412044', 'aMcAtNloHerwig7EvtGen_H7UE_SM4topsNLO'),\n",
              " ('600017', 'PhH7EG_H7UE_716_tchan_lept_antitop'),\n",
              " ('600018', 'PhH7EG_H7UE_716_tchan_lept_top'),\n",
              " ('600019', 'PhH7EG_H7UE_716_schan_lept_antitop'),\n",
              " ('600020', 'PhH7EG_H7UE_716_schan_lept_top'),\n",
              " ('601352', 'PhPy8EG_tW_dyn_DR_incl_antitop'),\n",
              " ('601355', 'PhPy8EG_tW_dyn_DR_incl_top'),\n",
              " ('601487', 'PhPy8EG_A14_tchan_pThard1_lep_antitop'),\n",
              " ('601489', 'PhPy8EG_A14_tchan_pThard1_lep_top'),\n",
              " ('601491', 'PhPy8EG_A14_ttbar_pThard1_dil'),\n",
              " ('601495', 'PhPy8EG_A14_ttbar_pThard1_allhad'),\n",
              " ('601497', 'PhPy8EG_A14_ttbar_pThard1_singlelep'),\n",
              " ('601624', 'PhPy8EG_tW_DS_dyn_dil_antitop'),\n",
              " ('601627', 'PhPy8EG_tW_DS_dyn_incl_antitop'),\n",
              " ('601628', 'PhPy8EG_tW_DS_dyn_dil_top'),\n",
              " ('601631', 'PhPy8EG_tW_DS_dyn_incl_top'),\n",
              " ('601761', 'PhPy8EG_tW_dyn_DR_pThard1_incl_top'),\n",
              " ('601762', 'PhPy8EG_tW_dyn_DR_pThard1_incl_antitop'),\n",
              " ('601763', 'PhPy8EG_tW_dyn_DR_pThard1_dil_top'),\n",
              " ('601764', 'PhPy8EG_tW_dyn_DR_pThard1_dil_antitop')]"
            ]
          },
          "metadata": {},
          "execution_count": 6
        }
      ]
    },
    {
      "cell_type": "code",
      "source": [
        "atom.match_metadata(field='keywords',value='susy')"
      ],
      "metadata": {
        "colab": {
          "base_uri": "https://localhost:8080/"
        },
        "collapsed": true,
        "id": "BfZTbuamq6_K",
        "outputId": "0c08cf3f-895b-41dd-88b9-f22dfd2314df"
      },
      "execution_count": 7,
      "outputs": [
        {
          "output_type": "execute_result",
          "data": {
            "text/plain": [
              "[('375884', 'MGPy8EG_A14N_GG_ttn1_2000_5000_200'),\n",
              " ('376359', 'MGPy8EG_A14N23LO_SS_onestepCC_1600_900_200'),\n",
              " ('392202', 'MGPy8EG_A14N23LO_C1N2_WZ_500p0_100p0_3L_2L7'),\n",
              " ('398384', 'MGPy8EG_A14N23LO_C1N2N1_GGMHinoZh50_800_noFilter'),\n",
              " ('448624', 'MGPy8EG_A14N23LO_TT_higgsinoRPV_1075_700'),\n",
              " ('449595', 'MGPy8EG_A14N23LO_TT_RPVdirectBL_1400'),\n",
              " ('501058', 'MGPy8EG_StauStauDirect_200p0_1p0_TFilt'),\n",
              " ('507366', 'MGPy8EG_A14NNPDF23LO_GGM_N1N2C1_950'),\n",
              " ('510097', 'MGPy8EG_A14N23LO_DM_4topscalar_p1000_c1_nonallhad'),\n",
              " ('523692', 'MGPy8EG_A14N23LO_TT_tN1_1200_200_MS')]"
            ]
          },
          "metadata": {},
          "execution_count": 7
        }
      ]
    },
    {
      "cell_type": "code",
      "execution_count": 69,
      "metadata": {
        "id": "pGK-65Z2k1Bp"
      },
      "outputs": [],
      "source": [
        "defs = {\n",
        "    r'single_top': {'dids': [601355], 'color': \"#ff0000\"}, #red\n",
        "    r'ttbar':    {'dids': [410081], 'color': \"#6b59d3\" }, #purple\n",
        "    r'susy_signal':  {'dids': [523692],'color': \"#00cdff\" }, #blue\n",
        "}\n",
        "\n",
        "samples   = atom.build_dataset(defs, protocol='https', cache=True)"
      ]
    },
    {
      "cell_type": "code",
      "execution_count": 70,
      "metadata": {
        "id": "5sbpsJJlk1Bp",
        "outputId": "4eaa7daa-e0d6-4cfa-ce18-5ccec9a32870",
        "colab": {
          "base_uri": "https://localhost:8080/"
        }
      },
      "outputs": [
        {
          "output_type": "execute_result",
          "data": {
            "text/plain": [
              "dict_keys(['single_top', 'ttbar', 'susy_signal'])"
            ]
          },
          "metadata": {},
          "execution_count": 70
        }
      ],
      "source": [
        "samples.keys()"
      ]
    },
    {
      "cell_type": "markdown",
      "source": [
        "#Variables:"
      ],
      "metadata": {
        "id": "Ru8ZydspssM2"
      }
    },
    {
      "cell_type": "code",
      "source": [
        "variables = [\"lep_n\", \"jet_n\", \"met\", \"jet_pt\", \"jet_eta\", \"jet_phi\", \"jet_e\", \"jet_btag_quantile\", \"met_phi\"]"
      ],
      "metadata": {
        "id": "6TSt5YovSWxv"
      },
      "execution_count": 71,
      "outputs": []
    },
    {
      "cell_type": "markdown",
      "source": [
        "#Cuts:"
      ],
      "metadata": {
        "id": "oRJ-W0o2rTJw"
      }
    },
    {
      "cell_type": "code",
      "source": [
        "#no leptons requirement\n",
        "def no_lep(lep_n):\n",
        "    # Return True if no lepton in the event\n",
        "    return lep_n == 0"
      ],
      "metadata": {
        "id": "fFbsaEAtwkZl"
      },
      "execution_count": 72,
      "outputs": []
    },
    {
      "cell_type": "code",
      "source": [
        "#at least 4 jets requirement\n",
        "def four_jets(jet_n):\n",
        "    # Return True if at least 4 jets in the event\n",
        "    return jet_n >= 4"
      ],
      "metadata": {
        "id": "uFFrgn4Nxb6B"
      },
      "execution_count": 73,
      "outputs": []
    },
    {
      "cell_type": "code",
      "source": [
        " #delta phi\n",
        " def wrap_delta_phi(phi1,phi2):\n",
        "        dphi=phi1-phi2\n",
        "        dphi = ak.where(dphi > np.pi, dphi - 2 * np.pi, dphi)\n",
        "        dphi = ak.where(dphi < -np.pi, dphi + 2 * np.pi, dphi)\n",
        "        return ak.where(abs(dphi)>0.4, True, False)"
      ],
      "metadata": {
        "id": "BclRwbCyUI7c"
      },
      "execution_count": 77,
      "outputs": []
    },
    {
      "cell_type": "code",
      "source": [
        "#missing transverse energy cut\n",
        "def cut_met(met):\n",
        "    # Return True if missing ET is above 400 GeV\n",
        "    return met > 400"
      ],
      "metadata": {
        "id": "L6HQLHMdxzSo"
      },
      "execution_count": 74,
      "outputs": []
    },
    {
      "cell_type": "code",
      "source": [
        "#transverse momentum cuts\n",
        "def cut_jet_pt(jet_pt):\n",
        "  #Return True if  jet1 and jet2 have pt over 80 GeV  and jet3 and jet4 have pt over 40 GeV\n",
        "  jet_pt_bool = (jet_pt[:,0] >= 80) & (jet_pt[:,1] >= 80) & (jet_pt[:,2] >= 40) & (jet_pt[:,3] >= 40)\n",
        "  return jet_pt_bool"
      ],
      "metadata": {
        "id": "Cbo9Klzb99t0"
      },
      "execution_count": 75,
      "outputs": []
    },
    {
      "cell_type": "code",
      "source": [
        "#at least one b-jet\n",
        "def cut_btag(jet_MV2c10):\n",
        "    # Return True if at least one b-tagged jet in the event\n",
        "    num_btag = ak.sum(jet_MV2c10 >= MV2c10_lim, axis=1) >= 1\n",
        "    return num_btag"
      ],
      "metadata": {
        "id": "Mp7G_K-FAS54"
      },
      "execution_count": 76,
      "outputs": []
    },
    {
      "cell_type": "markdown",
      "source": [
        "#Weights:"
      ],
      "metadata": {
        "id": "lmnxhibTs2gK"
      }
    },
    {
      "cell_type": "code",
      "source": [
        "weight_variables=[\"filteff\",\"kfac\",\"xsec\",\"mcWeight\",\"ScaleFactor_PILEUP\",\"ScaleFactor_BTAG\"]"
      ],
      "metadata": {
        "id": "zybq53O4Ql-Z"
      },
      "execution_count": 78,
      "outputs": []
    },
    {
      "cell_type": "code",
      "source": [
        "def calc_weight(weight_variables, events):\n",
        "    total_weight = lumi * 1000 / events[\"sum_of_weights\"]\n",
        "    for variable in weight_variables:\n",
        "        total_weight = total_weight * abs(events[variable])\n",
        "    return total_weight"
      ],
      "metadata": {
        "id": "g7bIsNFtR8CX"
      },
      "execution_count": 79,
      "outputs": []
    },
    {
      "cell_type": "markdown",
      "source": [
        "#For one file:"
      ],
      "metadata": {
        "id": "kz9FnVNxrc64"
      }
    },
    {
      "cell_type": "code",
      "source": [
        "signal = samples['susy_signal']['list'][0]\n",
        "tree=uproot.open(signal+\":analysis\")"
      ],
      "metadata": {
        "id": "2-PPHS8KVyQe"
      },
      "execution_count": 80,
      "outputs": []
    },
    {
      "cell_type": "code",
      "source": [
        "print(tree.keys())"
      ],
      "metadata": {
        "colab": {
          "base_uri": "https://localhost:8080/"
        },
        "id": "JwArcLFsxLb-",
        "outputId": "bd5b2685-8a59-4743-8b20-36ea8e1c7718"
      },
      "execution_count": 81,
      "outputs": [
        {
          "output_type": "stream",
          "name": "stdout",
          "text": [
            "['num_events', 'sum_of_weights', 'sum_of_weights_squared', 'xsec', 'kfac', 'filteff', 'TriggerMatch_DILEPTON', 'ScaleFactor_MLTRIGGER', 'ScaleFactor_PILEUP', 'ScaleFactor_FTAG', 'mcWeight', 'channelNumber', 'eventNumber', 'runNumber', 'trigML', 'trigP', 'trigDT', 'trigT', 'trigE', 'trigDM', 'trigDE', 'trigM', 'trigMET', 'ScaleFactor_BTAG', 'ScaleFactor_JVT', 'jet_n', 'jet_pt', 'jet_eta', 'jet_phi', 'jet_e', 'jet_btag_quantile', 'jet_jvt', 'largeRJet_n', 'largeRJet_pt', 'largeRJet_eta', 'largeRJet_phi', 'largeRJet_e', 'largeRJet_m', 'largeRJet_D2', 'jet_pt_jer1', 'jet_pt_jer2', 'ScaleFactor_ELE', 'ScaleFactor_MUON', 'ScaleFactor_LepTRIGGER', 'ScaleFactor_MuTRIGGER', 'ScaleFactor_ElTRIGGER', 'lep_n', 'lep_type', 'lep_pt', 'lep_eta', 'lep_phi', 'lep_e', 'lep_charge', 'lep_ptvarcone30', 'lep_topoetcone20', 'lep_z0', 'lep_d0', 'lep_d0sig', 'lep_isTightID', 'lep_isMediumID', 'lep_isLooseID', 'lep_isTightIso', 'lep_isLooseIso', 'lep_isTrigMatched', 'ScaleFactor_PHOTON', 'photon_n', 'photon_pt', 'photon_eta', 'photon_phi', 'photon_e', 'photon_ptcone20', 'photon_topoetcone40', 'photon_isLooseID', 'photon_isTightID', 'photon_isLooseIso', 'photon_isTightIso', 'ScaleFactor_TAU', 'ScaleFactor_TauTRIGGER', 'ScaleFactor_DiTauTRIGGER', 'tau_n', 'tau_pt', 'tau_eta', 'tau_phi', 'tau_e', 'tau_charge', 'tau_nTracks', 'tau_isTight', 'tau_RNNJetScore', 'tau_RNNEleScore', 'truth_jet_n', 'truth_jet_pt', 'truth_jet_eta', 'truth_jet_phi', 'truth_jet_m', 'truth_elec_n', 'truth_elec_pt', 'truth_elec_eta', 'truth_elec_phi', 'truth_muon_n', 'truth_muon_pt', 'truth_muon_eta', 'truth_muon_phi', 'truth_tau_n', 'truth_tau_pt', 'truth_tau_eta', 'truth_tau_phi', 'truth_photon_n', 'truth_photon_pt', 'truth_photon_eta', 'truth_photon_phi', 'truth_met', 'truth_met_phi', 'met', 'met_phi', 'met_mpx', 'met_mpy']\n"
          ]
        }
      ]
    },
    {
      "cell_type": "code",
      "source": [
        "sample_data= [] #empty list\n",
        "# Perform the cuts for each data entry in the tree\n",
        "for data in tree.iterate(variables, library=\"ak\"): # the data will be in the form of an awkward array\n",
        "\n",
        "      lep_n=data[\"lep_n\"]\n",
        "      data=data[no_lep(lep_n)]\n",
        "\n",
        "      jet_n=data[\"jet_n\"]\n",
        "      data=data[four_jets(jet_n)]\n",
        "\n",
        "      met=data[\"met\"]\n",
        "      data=data[cut_met(met)]\n",
        "\n",
        "      jet_pt=data[\"jet_pt\"]\n",
        "      data=data[cut_jet_pt(jet_pt)]\n",
        "\n",
        "      jet_MV2c10=data[\"jet_btag_quantile\"]\n",
        "      data=data[cut_btag(jet_MV2c10)]\n",
        "\n",
        "      delta_phi_cut = wrap_delta_phi(data[\"met_phi\"],data[\"jet_phi\"][:,0]) & wrap_delta_phi(data[\"met_phi\"],data[\"jet_phi\"][:,1])\n",
        "      data = data[delta_phi_cut]\n",
        "\n",
        "      # Append data to the whole sample data list\n",
        "      sample_data.append(data)\n",
        "# turns sample_data back into an awkward array\n",
        "data_A = ak.concatenate(sample_data)"
      ],
      "metadata": {
        "id": "_yBmIB4XBsRU"
      },
      "execution_count": 82,
      "outputs": []
    },
    {
      "cell_type": "markdown",
      "source": [
        "##Plot missing transverse energy:"
      ],
      "metadata": {
        "id": "NsHukiakvzcY"
      }
    },
    {
      "cell_type": "code",
      "source": [
        "# Use the MET variable from the filtered data\n",
        "met_data = data_A['met']\n",
        "\n",
        "# x-axis range and binning\n",
        "xmin = 400 * GeV\n",
        "xmax = 1600  * GeV\n",
        "step_size = 25  * GeV\n",
        "\n",
        "bin_edges = np.arange(start=xmin, stop=xmax + step_size, step=step_size)\n",
        "bin_centres = np.arange(start=xmin + step_size/2, stop=xmax + step_size/2, step=step_size)\n",
        "\n",
        "# Histogram the data\n",
        "data_x, _ = np.histogram(ak.to_numpy(met_data), bins=bin_edges)\n",
        "data_x_errors = np.sqrt(data_x)\n",
        "\n",
        "# ----------------------------\n",
        "# Main plot\n",
        "# ----------------------------\n",
        "fig, ax = plt.subplots(figsize=(8,6))\n",
        "\n",
        "# plot the data points with error bars\n",
        "ax.errorbar(\n",
        "    x=bin_centres,\n",
        "    y=data_x,\n",
        "    yerr=data_x_errors,\n",
        "    fmt='ko',        # black circles\n",
        "    label='susy events'\n",
        ")\n",
        "\n",
        "# x and y limits\n",
        "ax.set_xlim(left=xmin, right=xmax)\n",
        "ax.set_ylim(bottom=0, top=np.amax(data_x)*1.6)\n",
        "\n",
        "# axis labels\n",
        "ax.set_xlabel(r'Missing transverse energy $E_T^{\\rm miss}$ [GeV]',\n",
        "              fontsize=13, x=1, horizontalalignment='right')\n",
        "ax.set_ylabel('Events / '+str(step_size)+' GeV',\n",
        "              y=1, horizontalalignment='right')\n",
        "\n",
        "# ticks\n",
        "ax.xaxis.set_minor_locator(AutoMinorLocator())\n",
        "ax.yaxis.set_minor_locator(AutoMinorLocator())\n",
        "ax.tick_params(which='both', direction='in', top=True, right=True)\n",
        "\n",
        "# legend\n",
        "ax.legend(frameon=False)\n",
        "\n",
        "plt.tight_layout()\n",
        "plt.show()"
      ],
      "metadata": {
        "colab": {
          "base_uri": "https://localhost:8080/",
          "height": 607
        },
        "id": "lg-XXb8EHp9K",
        "outputId": "a5a21458-af48-4234-d66d-cac026495aea"
      },
      "execution_count": 83,
      "outputs": [
        {
          "output_type": "display_data",
          "data": {
            "text/plain": [
              "<Figure size 800x600 with 1 Axes>"
            ],
            "image/png": "[encoded data removed]"
          },
          "metadata": {}
        }
      ]
    },
    {
      "cell_type": "markdown",
      "source": [
        "#For whole data:"
      ],
      "metadata": {
        "id": "iH-MiHujw80_"
      }
    },
    {
      "cell_type": "code",
      "source": [
        "# Define empty dictionary to hold awkward arrays\n",
        "all_data = {}\n",
        "\n",
        "# Loop over samples\n",
        "for s in samples:\n",
        "\n",
        "    # Print which sample is being processed\n",
        "    print('Processing '+s+' samples')\n",
        "\n",
        "    # Define empty list to hold data\n",
        "    frames = []\n",
        "\n",
        "    # Loop over each file\n",
        "    for val in samples[s]['list']:\n",
        "        fileString = val\n",
        "\n",
        "        # start the clock\n",
        "        start = time.time()\n",
        "        print(\"\\t\"+val+\":\")\n",
        "\n",
        "        # Open file\n",
        "        tree = uproot.open(fileString + \":analysis\")\n",
        "\n",
        "        sample_data = []\n",
        "\n",
        "        # Loop over data in the tree\n",
        "        for data in tree.iterate(variables + weight_variables + [\"sum_of_weights\"],\n",
        "                                 library=\"ak\",\n",
        "                                 entry_stop=tree.num_entries*fraction): # process up to numevents*fraction\n",
        "\n",
        "            # Number of events in this batch\n",
        "            nIn = len(data)\n",
        "\n",
        "\n",
        "            lep_n=data[\"lep_n\"]\n",
        "            data=data[no_lep(lep_n)]\n",
        "\n",
        "            jet_n=data[\"jet_n\"]\n",
        "            data=data[four_jets(jet_n)]\n",
        "\n",
        "            met=data[\"met\"]\n",
        "            data=data[cut_met(met)]\n",
        "\n",
        "            jet_pt=data[\"jet_pt\"]\n",
        "            data=data[cut_jet_pt(jet_pt)]\n",
        "\n",
        "            jet_MV2c10=data[\"jet_btag_quantile\"]\n",
        "            data=data[cut_btag(jet_MV2c10)]\n",
        "\n",
        "            delta_phi_cut = wrap_delta_phi(data[\"met_phi\"],data[\"jet_phi\"][:,0]) & wrap_delta_phi(data[\"met_phi\"],data[\"jet_phi\"][:,1])\n",
        "            data = data[delta_phi_cut]\n",
        "\n",
        "            # Store Monte Carlo weights in the data\n",
        "            data['totalWeight'] = calc_weight(weight_variables, data)\n",
        "\n",
        "            # Append data to the whole sample data list\n",
        "            sample_data.append(data)\n",
        "\n",
        "            nOut = sum(data['totalWeight']) # sum of weights passing cuts in this batch\n",
        "\n",
        "            elapsed = time.time() - start # time taken to process\n",
        "            print(\"\\t\\t nIn: \"+str(nIn)+\",\\t nOut: \\t\"+str(nOut)+\"\\t in \"+str(round(elapsed,1))+\"s\") # events before and after\n",
        "\n",
        "        frames.append(ak.concatenate(sample_data))\n",
        "\n",
        "    all_data[s] = ak.concatenate(frames) # dictionary entry is concatenated awkward arrays"
      ],
      "metadata": {
        "colab": {
          "base_uri": "https://localhost:8080/"
        },
        "id": "Zit63Wr0UnXQ",
        "outputId": "b7ca7d0f-b4ed-4116-a263-8c2b41e35eab"
      },
      "execution_count": 84,
      "outputs": [
        {
          "output_type": "stream",
          "name": "stdout",
          "text": [
            "Processing single_top samples\n",
            "\tsimplecache::https://opendata.cern.ch/eos/opendata/atlas/rucio/user/egramsta/mc_601355.PhPy8EG_tW_dyn_DR_incl_top.noskim.root:\n",
            "\t\t nIn: 1166536,\t nOut: \t3.427872745140375\t in 3.8s\n",
            "\t\t nIn: 1166536,\t nOut: \t3.3438058447414125\t in 7.0s\n",
            "\t\t nIn: 298923,\t nOut: \t0.4819511008299875\t in 7.8s\n",
            "Processing ttbar samples\n",
            "\tsimplecache::https://opendata.cern.ch/eos/opendata/atlas/rucio/user/egramsta/mc_410081.MadGraphPythia8EvtGen_A14NNPDF23_ttbarWW.noskim.root:\n",
            "\t\t nIn: 29884,\t nOut: \t0.02321802763477611\t in 0.7s\n",
            "Processing susy_signal samples\n",
            "\tsimplecache::https://opendata.cern.ch/eos/opendata/atlas/rucio/user/egramsta/mc_523692.MGPy8EG_A14N23LO_TT_tN1_1200_200_MS.noskim.root:\n",
            "\t\t nIn: 9970,\t nOut: \t0.6526619374580738\t in 0.1s\n"
          ]
        }
      ]
    },
    {
      "cell_type": "code",
      "source": [
        "# x-axis range and binning\n",
        "xmin = 400 * GeV\n",
        "xmax = 1600  * GeV\n",
        "step_size = 25  * GeV\n",
        "\n",
        "bin_edges = np.arange(start=xmin, stop=xmax + step_size, step=step_size)\n",
        "bin_centres = np.arange(start=xmin + step_size/2, stop=xmax + step_size/2, step=step_size)\n",
        "\n",
        "signal_x = ak.to_numpy(all_data[r'susy_signal']['met']) # histogram the signal\n",
        "signal_weights = ak.to_numpy(all_data[r'susy_signal'].totalWeight) # get the weights of the signal events\n",
        "signal_color = samples[r'susy_signal']['color'] # get the colour for the signal bar\n",
        "\n",
        "mc_x = [] # define list to hold the Monte Carlo histogram entries\n",
        "mc_weights = [] # define list to hold the Monte Carlo weights\n",
        "mc_colors = [] # define list to hold the colors of the Monte Carlo bars\n",
        "mc_labels = [] # define list to hold the legend labels of the Monte Carlo bars\n",
        "\n",
        "for s in samples: # loop over samples\n",
        "    if s not in [r'susy_signal']: # if not signal\n",
        "        mc_x.append( ak.to_numpy(all_data[s]['met']) ) # append to the list of Monte Carlo histogram entries\n",
        "        mc_weights.append( ak.to_numpy(all_data[s].totalWeight) ) # append to the list of Monte Carlo weights\n",
        "        mc_colors.append( samples[s]['color'] ) # append to the list of Monte Carlo bar colors\n",
        "        mc_labels.append( s ) # append to the list of Monte Carlo legend labels\n",
        "\n",
        "# *************\n",
        "# Main plot\n",
        "# *************\n",
        "fig, main_axes = plt.subplots(figsize=(12, 8))\n",
        "\n",
        "# plot the Monte Carlo bars\n",
        "mc_heights = main_axes.hist(mc_x, bins=bin_edges,\n",
        "                            weights=mc_weights, stacked=True,\n",
        "                            color=mc_colors, label=mc_labels )\n",
        "\n",
        "mc_x_tot = mc_heights[0][-1] # stacked background MC y-axis value\n",
        "\n",
        "# calculate MC statistical uncertainty: sqrt(sum w^2)\n",
        "mc_x_err = np.sqrt(np.histogram(np.hstack(mc_x), bins=bin_edges, weights=np.hstack(mc_weights)**2)[0])\n",
        "\n",
        "# plot the signal bar\n",
        "signal_heights = main_axes.hist(signal_x, bins=bin_edges, bottom=mc_x_tot,\n",
        "                weights=signal_weights, color=signal_color,\n",
        "                label=r'signal ($m_{\\~t}$=1200 GeV, $m_{\\~{\\chi}^0_1}$=200GeV)')\n",
        "\n",
        "# plot the statistical uncertainty\n",
        "main_axes.bar(bin_centres, # x\n",
        "                2*mc_x_err, # heights\n",
        "                alpha=0.5, # half transparency\n",
        "                bottom=mc_x_tot-mc_x_err, color='none',\n",
        "                hatch=\"////\", width=step_size, label='Stat. Unc.' )\n",
        "\n",
        "# set the x-limit of the main axes\n",
        "main_axes.set_xlim( left=xmin, right=xmax )\n",
        "\n",
        "# separation of x axis minor ticks\n",
        "main_axes.xaxis.set_minor_locator( AutoMinorLocator() )\n",
        "\n",
        "# set the axis tick parameters for the main axes\n",
        "main_axes.tick_params(which='both', # ticks on both x and y axes\n",
        "                        direction='in', # Put ticks inside and outside the axes\n",
        "                        top=True, # draw ticks on the top axis\n",
        "                        right=True ) # draw ticks on right axis\n",
        "\n",
        "# x-axis label\n",
        "main_axes.set_xlabel(r'Missing transverse energy $E_{T}^{miss}$ [GeV]',\n",
        "                    fontsize=13, x=1, horizontalalignment='right' )\n",
        "\n",
        "# write y-axis label for main axes\n",
        "main_axes.set_ylabel('Events / '+str(step_size)+' GeV',\n",
        "                        y=1, horizontalalignment='right')\n",
        "\n",
        "# set y-axis limits for main axes\n",
        "main_axes.set_ylim( bottom=0, top=4 )\n",
        "\n",
        "# add minor ticks on y-axis for main axes\n",
        "main_axes.yaxis.set_minor_locator( AutoMinorLocator() )\n",
        "\n",
        "# Add text 'ATLAS Open Data' on plot\n",
        "plt.text(0.1, # x\n",
        "            0.93, # y\n",
        "            'ATLAS Open Data', # text\n",
        "            transform=main_axes.transAxes, # coordinate system used is that of main_axes\n",
        "            fontsize=16 )\n",
        "\n",
        "# Add energy and luminosity\n",
        "lumi_used = str(lumi*fraction) # luminosity to write on the plot\n",
        "plt.text(0.1, # x\n",
        "            0.82, # y\n",
        "            r'$\\sqrt{s}$=13 TeV,$\\int\\mathcal{L}$ dt = '+lumi_used+' fb$^{-1}$', # text\n",
        "            transform=main_axes.transAxes,fontsize=16 ) # coordinate system used is that of main_axes\n",
        "\n",
        "# Add a label for the analysis carried out\n",
        "plt.text(0.1, # x\n",
        "            0.76, # y\n",
        "            r'$\\~t \\rightarrow t \\~{\\chi}^0_1$', # text\n",
        "            transform=main_axes.transAxes,fontsize=16 ) # coordinate system used is that of main_axes\n",
        "\n",
        "\n",
        "# draw the legend\n",
        "my_legend = main_axes.legend( frameon=False, fontsize=16 ) # no box around the legend"
      ],
      "metadata": {
        "colab": {
          "base_uri": "https://localhost:8080/",
          "height": 709
        },
        "id": "FzL3RYOU5fC3",
        "outputId": "d7d01f9d-b8f0-435e-b1cb-319c96ee2945"
      },
      "execution_count": 87,
      "outputs": [
        {
          "output_type": "display_data",
          "data": {
            "text/plain": [
              "<Figure size 1200x800 with 1 Axes>"
            ],
            "image/png": "[encoded data removed]"
          },
          "metadata": {}
        }
      ]
    }
  ],
  "metadata": {
    "kernelspec": {
      "display_name": "Python 3 (ipykernel)",
      "language": "python",
      "name": "python3"
    },
    "language_info": {
      "codemirror_mode": {
        "name": "ipython",
        "version": 3
      },
      "file_extension": ".py",
      "mimetype": "text/x-python",
      "name": "python",
      "nbconvert_exporter": "python",
      "pygments_lexer": "ipython3",
      "version": "3.10.9"
    },
    "toc": {
      "base_numbering": 1,
      "nav_menu": {},
      "number_sections": true,
      "sideBar": true,
      "skip_h1_title": false,
      "title_cell": "Table of Contents",
      "title_sidebar": "Contents",
      "toc_cell": false,
      "toc_position": {},
      "toc_section_display": true,
      "toc_window_display": false
    },
    "colab": {
      "provenance": []
    }
  },
  "nbformat": 4,
  "nbformat_minor": 0
}